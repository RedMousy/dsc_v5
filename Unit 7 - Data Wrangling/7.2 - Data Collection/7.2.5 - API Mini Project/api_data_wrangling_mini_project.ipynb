{
 "cells": [
  {
   "cell_type": "markdown",
   "metadata": {},
   "source": [
    "This exercise will require you to pull some data from https://data.nasdaq.com/ (formerly Quandl API)."
   ]
  },
  {
   "cell_type": "markdown",
   "metadata": {},
   "source": [
    "As a first step, you will need to register a free account on the https://data.nasdaq.com/ website."
   ]
  },
  {
   "cell_type": "markdown",
   "metadata": {},
   "source": [
    "After you register, you will be provided with a unique API key, that you should store:\n",
    "\n",
    "*Note*: Use a `.env` file and put your key in there and `python-dotenv` to access it in this notebook. \n",
    "\n",
    "The code below uses a key that was used when generating this project but has since been deleted. Never submit your keys to source control. There is a `.env-example` file in this repository to illusrtate what you need. Copy that to a file called `.env` and use your own api key in that `.env` file. Make sure you also have a `.gitignore` file with a line for `.env` added to it. \n",
    "\n",
    "The standard Python gitignore is [here](https://github.com/github/gitignore/blob/master/Python.gitignore) you can just copy that. "
   ]
  },
  {
   "cell_type": "code",
   "execution_count": 1,
   "metadata": {},
   "outputs": [],
   "source": [
    "# get api key from your .env file\n",
    "import os\n",
    "from dotenv import load_dotenv\n",
    "\n",
    "load_dotenv()\n",
    "API_KEY = os.getenv('NASDAQ_API_KEY')"
   ]
  },
  {
   "cell_type": "markdown",
   "metadata": {},
   "source": [
    "Nasdaq Data has a large number of data sources, but, unfortunately, most of them require a Premium subscription. Still, there are also a good number of free datasets."
   ]
  },
  {
   "cell_type": "markdown",
   "metadata": {},
   "source": [
    "For this mini project, we will focus on equities data from the Frankfurt Stock Exhange (FSE), which is available for free. We'll try and analyze the stock prices of a company called Carl Zeiss Meditec, which manufactures tools for eye examinations, as well as medical lasers for laser eye surgery: https://www.zeiss.com/meditec/int/home.html. The company is listed under the stock ticker AFX_X."
   ]
  },
  {
   "cell_type": "markdown",
   "metadata": {},
   "source": [
    "You can find the detailed Nasdaq Data API instructions here: https://docs.data.nasdaq.com/docs/in-depth-usage"
   ]
  },
  {
   "cell_type": "markdown",
   "metadata": {},
   "source": [
    "While there is a dedicated Python package for connecting to the Nasdaq API, we would prefer that you use the *requests* package, which can be easily downloaded using *pip* or *conda*. You can find the documentation for the package here: http://docs.python-requests.org/en/master/ "
   ]
  },
  {
   "cell_type": "markdown",
   "metadata": {},
   "source": [
    "Finally, apart from the *requests* package, you are encouraged to not use any third party Python packages, such as *pandas*, and instead focus on what's available in the Python Standard Library (the *collections* module might come in handy: https://pymotw.com/3/collections/).\n",
    "Also, since you won't have access to DataFrames, you are encouraged to us Python's native data structures - preferably dictionaries, though some questions can also be answered using lists.\n",
    "You can read more on these data structures here: https://docs.python.org/3/tutorial/datastructures.html"
   ]
  },
  {
   "cell_type": "markdown",
   "metadata": {},
   "source": [
    "Keep in mind that the JSON responses you will be getting from the API map almost one-to-one to Python's dictionaries. Unfortunately, they can be very nested, so make sure you read up on indexing dictionaries in the documentation provided above."
   ]
  },
  {
   "cell_type": "code",
   "execution_count": 2,
   "metadata": {},
   "outputs": [],
   "source": [
    "# First, import the relevant modules\n",
    "import requests\n",
    "import collections\n",
    "import json"
   ]
  },
  {
   "cell_type": "markdown",
   "metadata": {},
   "source": [
    "Note: API's can change a bit with each version, for this exercise it is reccomended to use the nasdaq api at `https://data.nasdaq.com/api/v3/`. This is the same api as what used to be quandl so `https://www.quandl.com/api/v3/` should work too.\n",
    "\n",
    "Hint: We are looking for the `AFX_X` data on the `datasets/FSE/` dataset."
   ]
  },
  {
   "cell_type": "code",
   "execution_count": 3,
   "metadata": {},
   "outputs": [
    {
     "name": "stdout",
     "output_type": "stream",
     "text": [
      "200\n",
      "{'dataset_data': {'limit': None, 'transform': None, 'column_index': None, 'column_names': ['Date', 'Open', 'High', 'Low', 'Close', 'Change', 'Traded Volume', 'Turnover', 'Last Price of the Day', 'Daily Traded Units', 'Daily Turnover'], 'start_date': '2010-01-01', 'end_date': '2010-01-02', 'frequency': 'daily', 'data': [['2010-01-01', None, None, None, 12.46, None, 0.0, None, None, None, 0.0]], 'collapse': None, 'order': None}}\n"
     ]
    }
   ],
   "source": [
    "# Now, call the Nasdaq API and pull out a small sample of the data (only one day) to get a glimpse\n",
    "# into the JSON structure that will be returned\n",
    "database_code = 'FSE'\n",
    "dataset_code = 'AFX_X'\n",
    "return_format = 'json'\n",
    "url_sample = f'https://data.nasdaq.com/api/v3/datasets/{database_code}/{dataset_code}/data.{return_format}?start_date=2010-01-01&end_date=2010-01-02&api_key={API_KEY}'\n",
    "r_sample = requests.get(url_sample)\n",
    "print(r_sample.status_code)\n",
    "json_data_sample = r_sample.json()\n",
    "print(json_data_sample)"
   ]
  },
  {
   "cell_type": "code",
   "execution_count": 36,
   "metadata": {},
   "outputs": [],
   "source": [
    "# Inspect the JSON structure of the object you created, and take note of how nested it is,\n",
    "# as well as the overall structure\n",
    "\n",
    "url = f'https://data.nasdaq.com/api/v3/datasets/{database_code}/{dataset_code}/data.{return_format}?api_key={API_KEY}'\n",
    "r = requests.get(url)\n",
    "json_data = r.json()"
   ]
  },
  {
   "cell_type": "markdown",
   "metadata": {},
   "source": [
    "These are your tasks for this mini project:\n",
    "\n",
    "1. Collect data from the Franfurt Stock Exchange, for the ticker AFX_X, for the whole year 2017 (keep in mind that the date format is YYYY-MM-DD).\n",
    "2. Convert the returned JSON object into a Python dictionary.\n",
    "3. Calculate what the highest and lowest opening prices were for the stock in this period.\n",
    "4. What was the largest change in any one day (based on High and Low price)?\n",
    "5. What was the largest change between any two days (based on Closing Price)?\n",
    "6. What was the average daily trading volume during this year?\n",
    "7. (Optional) What was the median trading volume during this year. (Note: you may need to implement your own function for calculating the median.)"
   ]
  },
  {
   "cell_type": "markdown",
   "metadata": {},
   "source": [
    "1. Collect data from the Franfurt Stock Exchange, for the ticker AFX_X, for the whole year 2017"
   ]
  },
  {
   "cell_type": "code",
   "execution_count": 5,
   "metadata": {},
   "outputs": [],
   "source": [
    "# 1. Collect data from Frankfurt Stock Exchange, for the ticker AFX_X, for the whole year 2017\n",
    "\n",
    "url_2017 = f'https://data.nasdaq.com/api/v3/datasets/{database_code}/{dataset_code}/data.{return_format}?start_date=2017-01-01&end_date=2017-12-31&api_key={API_KEY}'\n",
    "res = requests.get(url_2017)\n",
    "\n"
   ]
  },
  {
   "cell_type": "markdown",
   "metadata": {},
   "source": [
    "2. Convert the returned JSON object into a Python dictionary."
   ]
  },
  {
   "cell_type": "code",
   "execution_count": 6,
   "metadata": {},
   "outputs": [],
   "source": [
    "# 2. Convert returned JSON object into Python dictionary\n",
    "\n",
    "json_2017 = res.json()\n"
   ]
  },
  {
   "cell_type": "markdown",
   "metadata": {},
   "source": [
    "3. Calculate what the highest and lowest opening prices were for the stock in this period."
   ]
  },
  {
   "cell_type": "code",
   "execution_count": 22,
   "metadata": {},
   "outputs": [
    {
     "name": "stdout",
     "output_type": "stream",
     "text": [
      "['Date', 'Open', 'High', 'Low', 'Close', 'Change', 'Traded Volume', 'Turnover', 'Last Price of the Day', 'Daily Traded Units', 'Daily Turnover']\n",
      "The highest opening price in 2017 was: 53.11\n",
      "The lowest opening price in 2017 was: 34.99\n"
     ]
    }
   ],
   "source": [
    "#Below line is to display the column names\n",
    "print(json_2017['dataset_data']['column_names'])\n",
    "\n",
    "data_2017 = json_2017['dataset_data']['data']\n",
    "#Data is of data type \"list\"\n",
    "\n",
    "#Opening Price is in the 2nd column (index 1)\n",
    "highest_opening_price = data_2017[0][1]\n",
    "lowest_opening_price = data_2017[0][1]\n",
    "\n",
    "for i in range(len(data_2017)):\n",
    "    try:\n",
    "        if data_2017[i][1] > highest_opening_price:\n",
    "            highest_opening_price = data_2017[i][1]\n",
    "        else:\n",
    "            lowest_opening_price = data_2017[i][1]\n",
    "    except TypeError:\n",
    "        pass\n",
    "    \n",
    "#TypeError exception placed since some data is NoneType\n",
    "\n",
    "print(\"The highest opening price in 2017 was: \" + str(highest_opening_price))\n",
    "print(\"The lowest opening price in 2017 was: \" + str(lowest_opening_price))\n"
   ]
  },
  {
   "cell_type": "markdown",
   "metadata": {},
   "source": [
    "4. What was the largest change in any one day (based on High and Low price)?"
   ]
  },
  {
   "cell_type": "code",
   "execution_count": 26,
   "metadata": {},
   "outputs": [
    {
     "name": "stdout",
     "output_type": "stream",
     "text": [
      "The largest change in any one day was: 2.8100000000000023\n"
     ]
    }
   ],
   "source": [
    "#High Price is in the 3rd column, and Low Price is in the 4th column\n",
    "\n",
    "largest_day_change = 0\n",
    "\n",
    "for i in range(len(data_2017)):\n",
    "    try:\n",
    "        current_day_change = abs(data_2017[i][3] - data_2017[i][2])\n",
    "        if current_day_change > largest_day_change:\n",
    "            largest_day_change = current_day_change\n",
    "    except TypeError:\n",
    "        pass\n",
    "\n",
    "print(\"The largest change in any one day was: \" + str(largest_day_change))"
   ]
  },
  {
   "cell_type": "markdown",
   "metadata": {},
   "source": [
    "5. What was the largest change between any two days (based on Closing Price)?"
   ]
  },
  {
   "cell_type": "code",
   "execution_count": 29,
   "metadata": {},
   "outputs": [
    {
     "name": "stdout",
     "output_type": "stream",
     "text": [
      "The largest change between any two days was: 2.559999999999995\n"
     ]
    }
   ],
   "source": [
    "#Closing Price is in the 5th Column\n",
    "\n",
    "largest_day2day_change = 0\n",
    "\n",
    "for i in range(len(data_2017)-1):\n",
    "    try:\n",
    "        current_day2day_change = abs(data_2017[i+1][4] - data_2017[i][4])\n",
    "        if current_day2day_change > largest_day2day_change:\n",
    "            largest_day2day_change = current_day2day_change\n",
    "    except TypeError:\n",
    "        pass\n",
    "\n",
    "print(\"The largest change between any two days was: \" + str(largest_day2day_change))"
   ]
  },
  {
   "cell_type": "markdown",
   "metadata": {},
   "source": [
    "6. What was the average daily trading volume during this year?"
   ]
  },
  {
   "cell_type": "code",
   "execution_count": 35,
   "metadata": {},
   "outputs": [
    {
     "name": "stdout",
     "output_type": "stream",
     "text": [
      "0\n",
      "The average daily trading volume was: 89124.33725490196\n"
     ]
    }
   ],
   "source": [
    "#Daily Trading Volume is in 7th Column\n",
    "\n",
    "#check that there are no NoneTypes in the column\n",
    "nonecounter = 0\n",
    "for i in range(len(data_2017)):\n",
    "    if data_2017[i][6] is None:\n",
    "        nonecounter += 1\n",
    "\n",
    "print(nonecounter)\n",
    "\n",
    "#Calculate average\n",
    "sum_of_volumes = 0\n",
    "for i in range(len(data_2017)):\n",
    "    sum_of_volumes += data_2017[i][6]\n",
    "average_of_volumes = sum_of_volumes/len(data_2017)\n",
    "\n",
    "print(\"The average daily trading volume was: \" + str(average_of_volumes))"
   ]
  }
 ],
 "metadata": {
  "interpreter": {
   "hash": "7635eb1b9d0fe97add78a7368b6b431c09bb8ad5c42e437d64abdd99821c31ae"
  },
  "kernelspec": {
   "display_name": "Python 3 (ipykernel)",
   "language": "python",
   "name": "python3"
  },
  "language_info": {
   "codemirror_mode": {
    "name": "ipython",
    "version": 3
   },
   "file_extension": ".py",
   "mimetype": "text/x-python",
   "name": "python",
   "nbconvert_exporter": "python",
   "pygments_lexer": "ipython3",
   "version": "3.9.7"
  }
 },
 "nbformat": 4,
 "nbformat_minor": 4
}
